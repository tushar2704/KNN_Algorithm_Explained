{
 "cells": [
  {
   "cell_type": "markdown",
   "id": "4b28579b",
   "metadata": {
    "papermill": {
     "duration": 0.011038,
     "end_time": "2023-01-07T13:20:39.025715",
     "exception": false,
     "start_time": "2023-01-07T13:20:39.014677",
     "status": "completed"
    },
    "tags": []
   },
   "source": [
    "<div style=\"color:white;\n",
    "           display:fill;\n",
    "           border-radius:2px;\n",
    "           background-color:#F5DEB3;\n",
    "           font-size:250%;\n",
    "           font-family:Helvetica, Sans-Serif;\n",
    "           letter-spacing:0.5px\">\n",
    "<p style=\"padding: 10px;\n",
    "          text-align: center;\n",
    "          font-size:150%;\n",
    "          color:blue;\">\n",
    "           🎯 🎯KNN Algorithm🎯🎯  \n",
    "</p>\n",
    "<style>\n",
    "        h1{text-align: center;}\n",
    " </style>  \n",
    "    \n",
    "</div>"
   ]
  },
  {
   "cell_type": "markdown",
   "id": "4be4ce98",
   "metadata": {
    "papermill": {
     "duration": 0.009314,
     "end_time": "2023-01-07T13:20:39.044766",
     "exception": false,
     "start_time": "2023-01-07T13:20:39.035452",
     "status": "completed"
    },
    "tags": []
   },
   "source": [
    "<p style=\"font-family:cursive; font-size:25px; color:'darkcyan';\">I brewed this notebook from scratch, If this notebook helped, please consider upvoting and cite me if sharing on other platforms.</p>\n",
    "\n",
    "\n",
    "<p style=\"width: 700px;padding: 20px;background: papayawhip;border-radius:10px;font-size:23px;font-size:23px;border-radius:20px\">\n",
    "    <a href=\"https://www.linkedin.com/in/tusharaggarwalinseec/\" target=\"_blank\">Lets connect on LinkedIn!</a>\n",
    "    \n",
    "   </p>\n",
    "<p style=\"width: 700px;padding: 20px;background: papayawhip;border-radius:10px;font-size:23px;border-radius:20px\">\n",
    "<a href=\"https://github.com/tushar2704\" target=\"_blank\">Follow me on Github too!</a> </p>\n",
    "\n",
    "<p style=\"width: 700px;padding: 20px;background: papayawhip;border-radius:10px;font-size:23px;border-radius:20px\">\n",
    "    <a href=\"https://medium.com/@tushar_aggarwal\" target=\"_blank\">Also checkout my Medium posts!</a>\n",
    "    \n",
    "   </p>"
   ]
  },
  {
   "cell_type": "markdown",
   "id": "c53f79c4",
   "metadata": {
    "papermill": {
     "duration": 0.009432,
     "end_time": "2023-01-07T13:20:39.064695",
     "exception": false,
     "start_time": "2023-01-07T13:20:39.055263",
     "status": "completed"
    },
    "tags": []
   },
   "source": [
    "<div style=\"color:black;\n",
    "           display:fill;\n",
    "           border-radius:10px;\n",
    "           background-color: #ffaa00;\n",
    "           font-size:120%;\n",
    "           font-family:Helvetica, Sans-Serif;\n",
    "           letter-spacing:0.5px\">\n",
    "\n",
    "<p style=\"padding: 10px;\n",
    "          text-align: left;\n",
    "          color:black;\">\n",
    "In this notebook, I used KNN i.e.(KNeighborsClassifier), to classify if target class is 1 or o with \"classified-data\"(cleaned already).\n",
    "\n",
    " Note:I completely brewed this notebbok from cratch, if you learn anything from it please consider upvoting and cite me if sharing on other platforms.\n",
    "\n",
    "</p>"
   ]
  },
  {
   "cell_type": "markdown",
   "id": "0a82fd8c",
   "metadata": {
    "papermill": {
     "duration": 0.009502,
     "end_time": "2023-01-07T13:20:39.085737",
     "exception": false,
     "start_time": "2023-01-07T13:20:39.076235",
     "status": "completed"
    },
    "tags": []
   },
   "source": [
    "<div style=\"color:white;\n",
    "           display:fill;\n",
    "           border-radius:5px;\n",
    "           background-color:skyblue;\n",
    "           font-size:120%;\n",
    "           font-family:Helvetica, Sans-Serif;\n",
    "           letter-spacing:0.5px\">\n",
    "\n",
    "<p style=\"padding: 10px;\n",
    "          text-align: center;\n",
    "          color:black;\">\n",
    " This dataset contains current estimates (live population clock), historical data, and projected figures of world countries and dependent territories. Data based on the latest United Nations Population Division estimates.\n",
    "\n",
    "</p>\n",
    "   "
   ]
  },
  {
   "cell_type": "markdown",
   "id": "8bfff364",
   "metadata": {
    "execution": {
     "iopub.execute_input": "2022-12-10T13:39:56.401596Z",
     "iopub.status.busy": "2022-12-10T13:39:56.401073Z",
     "iopub.status.idle": "2022-12-10T13:39:56.438444Z",
     "shell.execute_reply": "2022-12-10T13:39:56.437143Z",
     "shell.execute_reply.started": "2022-12-10T13:39:56.401486Z"
    },
    "papermill": {
     "duration": 0.009357,
     "end_time": "2023-01-07T13:20:39.104731",
     "exception": false,
     "start_time": "2023-01-07T13:20:39.095374",
     "status": "completed"
    },
    "tags": []
   },
   "source": [
    "<div style=\"color:black;\n",
    "           display:fill;\n",
    "           border-radius:5px;\n",
    "           background-color:#e71837;\n",
    "           font-size:120%;\n",
    "           font-family:Helvetica, Sans-Serif;\n",
    "           letter-spacing:0.5px\">\n",
    "\n",
    "<p style=\"padding: 10px;\n",
    "          text-align: center;\n",
    "          color:black;\">\n",
    "Please note, I have already cleaned and placed the data as \"classified-data\" so that reader of this notebook can focus on builing the KKN and not distracted by the data cleaing here. In real world data will always require some sort of wrangling, to see checkout my other notebooks!\n",
    "</p>\n"
   ]
  },
  {
   "cell_type": "markdown",
   "id": "72499a41",
   "metadata": {
    "papermill": {
     "duration": 0.009386,
     "end_time": "2023-01-07T13:20:39.123886",
     "exception": false,
     "start_time": "2023-01-07T13:20:39.114500",
     "status": "completed"
    },
    "tags": []
   },
   "source": [
    "\n",
    "<div style=\"color:white;\n",
    "           display:fill;\n",
    "           border-radius:5px;\n",
    "           background-color:#fc9303;\n",
    "           font-size:120%;\n",
    "           font-family:Helvetica, Sans-Serif;\n",
    "           letter-spacing:0.5px\">\n",
    "\n",
    "<p style=\"padding: 10px;\n",
    "          text-align: center;\n",
    "          color:black;\">\n",
    "K Nearest Neighbor algorithm falls under the Supervised Learning category and is used for classification (most commonly) and regression. It is a versatile algorithm also used for imputing missing values and resampling datasets. As the name (K Nearest Neighbor) suggests it considers K Nearest Neighbors (Data points) to predict the class or continuous value for the new Datapoint.\n",
    "\n",
    "The algorithm’s learning is:\n",
    "\n",
    "1. Instance-based learning: Here we do not learn weights from training data to predict output (as in model-based algorithms) but use entire training instances to predict output for unseen data.\n",
    "\n",
    "2. Lazy Learning: Model is not learned using training data prior and the learning process is postponed to a time when prediction is requested on the new instance.\n",
    "\n",
    "3. Non -Parametric: In KNN, there is no predefined form of the mapping function.\n",
    "\n",
    "\n",
    "</p>\n",
    "\n",
    "\n",
    "\n",
    "\n"
   ]
  },
  {
   "cell_type": "markdown",
   "id": "a692a2c1",
   "metadata": {
    "papermill": {
     "duration": 0.009433,
     "end_time": "2023-01-07T13:20:39.142890",
     "exception": false,
     "start_time": "2023-01-07T13:20:39.133457",
     "status": "completed"
    },
    "tags": []
   },
   "source": [
    "<div style=\"color:black;\n",
    "           display:fill;\n",
    "           border-radius:5px;\n",
    "           background-color:orange;\n",
    "           font-size:120%;\n",
    "           font-family:Helvetica, Sans-Serif;\n",
    "           letter-spacing:0.5px\">\n",
    "\n",
    "<p style=\"padding: 10px;\n",
    "          text-align: center;\n",
    "          color:black;\">\n",
    "Importing the required libraries\n",
    "</p>\n"
   ]
  },
  {
   "cell_type": "code",
   "execution_count": 1,
   "id": "52274db0",
   "metadata": {
    "execution": {
     "iopub.execute_input": "2023-01-07T13:20:39.165400Z",
     "iopub.status.busy": "2023-01-07T13:20:39.164778Z",
     "iopub.status.idle": "2023-01-07T13:20:41.837803Z",
     "shell.execute_reply": "2023-01-07T13:20:41.836355Z"
    },
    "papermill": {
     "duration": 2.687454,
     "end_time": "2023-01-07T13:20:41.840528",
     "exception": false,
     "start_time": "2023-01-07T13:20:39.153074",
     "status": "completed"
    },
    "tags": []
   },
   "outputs": [],
   "source": [
    "# Data manipulation imports\n",
    "import numpy as np\n",
    "import pandas as pd\n",
    "\n",
    "# Visualization imports\n",
    "import matplotlib.pyplot as plt\n",
    "import plotly.express as px\n",
    "import seaborn as sns\n",
    "%matplotlib inline\n",
    "\n",
    "# Modeling imports\n",
    "from sklearn.model_selection import train_test_split\n",
    "from sklearn.impute import SimpleImputer\n",
    "from sklearn.preprocessing import OneHotEncoder, StandardScaler\n",
    "from sklearn.compose import ColumnTransformer\n",
    "from sklearn.pipeline import Pipeline\n",
    "from sklearn.neighbors import KNeighborsClassifier\n",
    "from sklearn.metrics import accuracy_score, ConfusionMatrixDisplay, confusion_matrix, classification_report"
   ]
  },
  {
   "cell_type": "markdown",
   "id": "fecf1369",
   "metadata": {
    "papermill": {
     "duration": 0.009364,
     "end_time": "2023-01-07T13:20:41.859633",
     "exception": false,
     "start_time": "2023-01-07T13:20:41.850269",
     "status": "completed"
    },
    "tags": []
   },
   "source": [
    "<div style=\"color:black;\n",
    "           display:fill;\n",
    "           border-radius:5px;\n",
    "           background-color:orange;\n",
    "           font-size:120%;\n",
    "           font-family:Helvetica, Sans-Serif;\n",
    "           letter-spacing:0.5px\">\n",
    "\n",
    "<p style=\"padding: 10px;\n",
    "          text-align: center;\n",
    "          color:black;\">\n",
    "Importing the data file (in csv format) into the noteboobk\n",
    "</p>\n"
   ]
  },
  {
   "cell_type": "code",
   "execution_count": 2,
   "id": "e1fcd8b7",
   "metadata": {
    "execution": {
     "iopub.execute_input": "2023-01-07T13:20:41.880878Z",
     "iopub.status.busy": "2023-01-07T13:20:41.880445Z",
     "iopub.status.idle": "2023-01-07T13:20:41.909956Z",
     "shell.execute_reply": "2023-01-07T13:20:41.908894Z"
    },
    "papermill": {
     "duration": 0.043504,
     "end_time": "2023-01-07T13:20:41.912642",
     "exception": false,
     "start_time": "2023-01-07T13:20:41.869138",
     "status": "completed"
    },
    "tags": []
   },
   "outputs": [],
   "source": [
    "data = pd.read_csv(\"/kaggle/input/classified-data/Classified_Data.csv\", index_col=0) \n",
    "#Data avaliable from my collection at :https://www.kaggle.com/datasets/tusharaggarwal27/classified-data"
   ]
  },
  {
   "cell_type": "code",
   "execution_count": 3,
   "id": "7fff6f78",
   "metadata": {
    "execution": {
     "iopub.execute_input": "2023-01-07T13:20:41.934385Z",
     "iopub.status.busy": "2023-01-07T13:20:41.933878Z",
     "iopub.status.idle": "2023-01-07T13:20:41.959464Z",
     "shell.execute_reply": "2023-01-07T13:20:41.958314Z"
    },
    "papermill": {
     "duration": 0.04022,
     "end_time": "2023-01-07T13:20:41.962661",
     "exception": false,
     "start_time": "2023-01-07T13:20:41.922441",
     "status": "completed"
    },
    "tags": []
   },
   "outputs": [
    {
     "data": {
      "text/html": [
       "<div>\n",
       "<style scoped>\n",
       "    .dataframe tbody tr th:only-of-type {\n",
       "        vertical-align: middle;\n",
       "    }\n",
       "\n",
       "    .dataframe tbody tr th {\n",
       "        vertical-align: top;\n",
       "    }\n",
       "\n",
       "    .dataframe thead th {\n",
       "        text-align: right;\n",
       "    }\n",
       "</style>\n",
       "<table border=\"1\" class=\"dataframe\">\n",
       "  <thead>\n",
       "    <tr style=\"text-align: right;\">\n",
       "      <th></th>\n",
       "      <th>WTT</th>\n",
       "      <th>PTI</th>\n",
       "      <th>EQW</th>\n",
       "      <th>SBI</th>\n",
       "      <th>LQE</th>\n",
       "      <th>QWG</th>\n",
       "      <th>FDJ</th>\n",
       "      <th>PJF</th>\n",
       "      <th>HQE</th>\n",
       "      <th>NXJ</th>\n",
       "      <th>TARGET CLASS</th>\n",
       "    </tr>\n",
       "  </thead>\n",
       "  <tbody>\n",
       "    <tr>\n",
       "      <th>0</th>\n",
       "      <td>0.913917</td>\n",
       "      <td>1.162073</td>\n",
       "      <td>0.567946</td>\n",
       "      <td>0.755464</td>\n",
       "      <td>0.780862</td>\n",
       "      <td>0.352608</td>\n",
       "      <td>0.759697</td>\n",
       "      <td>0.643798</td>\n",
       "      <td>0.879422</td>\n",
       "      <td>1.231409</td>\n",
       "      <td>1</td>\n",
       "    </tr>\n",
       "    <tr>\n",
       "      <th>1</th>\n",
       "      <td>0.635632</td>\n",
       "      <td>1.003722</td>\n",
       "      <td>0.535342</td>\n",
       "      <td>0.825645</td>\n",
       "      <td>0.924109</td>\n",
       "      <td>0.648450</td>\n",
       "      <td>0.675334</td>\n",
       "      <td>1.013546</td>\n",
       "      <td>0.621552</td>\n",
       "      <td>1.492702</td>\n",
       "      <td>0</td>\n",
       "    </tr>\n",
       "    <tr>\n",
       "      <th>2</th>\n",
       "      <td>0.721360</td>\n",
       "      <td>1.201493</td>\n",
       "      <td>0.921990</td>\n",
       "      <td>0.855595</td>\n",
       "      <td>1.526629</td>\n",
       "      <td>0.720781</td>\n",
       "      <td>1.626351</td>\n",
       "      <td>1.154483</td>\n",
       "      <td>0.957877</td>\n",
       "      <td>1.285597</td>\n",
       "      <td>0</td>\n",
       "    </tr>\n",
       "    <tr>\n",
       "      <th>3</th>\n",
       "      <td>1.234204</td>\n",
       "      <td>1.386726</td>\n",
       "      <td>0.653046</td>\n",
       "      <td>0.825624</td>\n",
       "      <td>1.142504</td>\n",
       "      <td>0.875128</td>\n",
       "      <td>1.409708</td>\n",
       "      <td>1.380003</td>\n",
       "      <td>1.522692</td>\n",
       "      <td>1.153093</td>\n",
       "      <td>1</td>\n",
       "    </tr>\n",
       "    <tr>\n",
       "      <th>4</th>\n",
       "      <td>1.279491</td>\n",
       "      <td>0.949750</td>\n",
       "      <td>0.627280</td>\n",
       "      <td>0.668976</td>\n",
       "      <td>1.232537</td>\n",
       "      <td>0.703727</td>\n",
       "      <td>1.115596</td>\n",
       "      <td>0.646691</td>\n",
       "      <td>1.463812</td>\n",
       "      <td>1.419167</td>\n",
       "      <td>1</td>\n",
       "    </tr>\n",
       "    <tr>\n",
       "      <th>5</th>\n",
       "      <td>0.833928</td>\n",
       "      <td>1.523302</td>\n",
       "      <td>1.104743</td>\n",
       "      <td>1.021139</td>\n",
       "      <td>1.107377</td>\n",
       "      <td>1.010930</td>\n",
       "      <td>1.279538</td>\n",
       "      <td>1.280677</td>\n",
       "      <td>0.510350</td>\n",
       "      <td>1.528044</td>\n",
       "      <td>0</td>\n",
       "    </tr>\n",
       "    <tr>\n",
       "      <th>6</th>\n",
       "      <td>0.944705</td>\n",
       "      <td>1.251761</td>\n",
       "      <td>1.074885</td>\n",
       "      <td>0.286473</td>\n",
       "      <td>0.996440</td>\n",
       "      <td>0.428860</td>\n",
       "      <td>0.910805</td>\n",
       "      <td>0.755305</td>\n",
       "      <td>1.111800</td>\n",
       "      <td>1.110842</td>\n",
       "      <td>0</td>\n",
       "    </tr>\n",
       "    <tr>\n",
       "      <th>7</th>\n",
       "      <td>0.816174</td>\n",
       "      <td>1.088392</td>\n",
       "      <td>0.895343</td>\n",
       "      <td>0.243860</td>\n",
       "      <td>0.943123</td>\n",
       "      <td>1.045131</td>\n",
       "      <td>1.146536</td>\n",
       "      <td>1.341886</td>\n",
       "      <td>1.225324</td>\n",
       "      <td>1.425784</td>\n",
       "      <td>0</td>\n",
       "    </tr>\n",
       "    <tr>\n",
       "      <th>8</th>\n",
       "      <td>0.776551</td>\n",
       "      <td>1.463812</td>\n",
       "      <td>0.783825</td>\n",
       "      <td>0.337278</td>\n",
       "      <td>0.742215</td>\n",
       "      <td>1.072756</td>\n",
       "      <td>0.880300</td>\n",
       "      <td>1.312951</td>\n",
       "      <td>1.118165</td>\n",
       "      <td>1.225922</td>\n",
       "      <td>0</td>\n",
       "    </tr>\n",
       "    <tr>\n",
       "      <th>9</th>\n",
       "      <td>0.772280</td>\n",
       "      <td>0.515111</td>\n",
       "      <td>0.891596</td>\n",
       "      <td>0.940862</td>\n",
       "      <td>1.430568</td>\n",
       "      <td>0.885876</td>\n",
       "      <td>1.205231</td>\n",
       "      <td>0.596858</td>\n",
       "      <td>1.542580</td>\n",
       "      <td>0.981879</td>\n",
       "      <td>1</td>\n",
       "    </tr>\n",
       "    <tr>\n",
       "      <th>10</th>\n",
       "      <td>1.284999</td>\n",
       "      <td>1.331018</td>\n",
       "      <td>0.618910</td>\n",
       "      <td>0.657017</td>\n",
       "      <td>1.037191</td>\n",
       "      <td>0.717346</td>\n",
       "      <td>0.778501</td>\n",
       "      <td>0.599317</td>\n",
       "      <td>1.245676</td>\n",
       "      <td>1.441695</td>\n",
       "      <td>1</td>\n",
       "    </tr>\n",
       "  </tbody>\n",
       "</table>\n",
       "</div>"
      ],
      "text/plain": [
       "         WTT       PTI       EQW       SBI       LQE       QWG       FDJ  \\\n",
       "0   0.913917  1.162073  0.567946  0.755464  0.780862  0.352608  0.759697   \n",
       "1   0.635632  1.003722  0.535342  0.825645  0.924109  0.648450  0.675334   \n",
       "2   0.721360  1.201493  0.921990  0.855595  1.526629  0.720781  1.626351   \n",
       "3   1.234204  1.386726  0.653046  0.825624  1.142504  0.875128  1.409708   \n",
       "4   1.279491  0.949750  0.627280  0.668976  1.232537  0.703727  1.115596   \n",
       "5   0.833928  1.523302  1.104743  1.021139  1.107377  1.010930  1.279538   \n",
       "6   0.944705  1.251761  1.074885  0.286473  0.996440  0.428860  0.910805   \n",
       "7   0.816174  1.088392  0.895343  0.243860  0.943123  1.045131  1.146536   \n",
       "8   0.776551  1.463812  0.783825  0.337278  0.742215  1.072756  0.880300   \n",
       "9   0.772280  0.515111  0.891596  0.940862  1.430568  0.885876  1.205231   \n",
       "10  1.284999  1.331018  0.618910  0.657017  1.037191  0.717346  0.778501   \n",
       "\n",
       "         PJF       HQE       NXJ  TARGET CLASS  \n",
       "0   0.643798  0.879422  1.231409             1  \n",
       "1   1.013546  0.621552  1.492702             0  \n",
       "2   1.154483  0.957877  1.285597             0  \n",
       "3   1.380003  1.522692  1.153093             1  \n",
       "4   0.646691  1.463812  1.419167             1  \n",
       "5   1.280677  0.510350  1.528044             0  \n",
       "6   0.755305  1.111800  1.110842             0  \n",
       "7   1.341886  1.225324  1.425784             0  \n",
       "8   1.312951  1.118165  1.225922             0  \n",
       "9   0.596858  1.542580  0.981879             1  \n",
       "10  0.599317  1.245676  1.441695             1  "
      ]
     },
     "execution_count": 3,
     "metadata": {},
     "output_type": "execute_result"
    }
   ],
   "source": [
    "data.head(11)"
   ]
  },
  {
   "cell_type": "markdown",
   "id": "f6e9d91e",
   "metadata": {
    "papermill": {
     "duration": 0.009612,
     "end_time": "2023-01-07T13:20:41.982504",
     "exception": false,
     "start_time": "2023-01-07T13:20:41.972892",
     "status": "completed"
    },
    "tags": []
   },
   "source": [
    "<div style=\"color:white;\n",
    "           display:fill;\n",
    "           border-radius:5px;\n",
    "           background-color:skyblue;\n",
    "           font-size:120%;\n",
    "           font-family:Helvetica, Sans-Serif;\n",
    "           letter-spacing:0.5px\">\n",
    "\n",
    "<p style=\"padding: 10px;\n",
    "          text-align: center;\n",
    "          color:black;\">\n",
    " Standardizing the Variables because the KNN classifier predicts the class of a given test observation by identifying the observations that are nearest to it, the scale of the variables matters. Any variables that are on a large scale will have a much larger effect on the distance between the observations, and hence on the KNN classifier, than variables that are on a small scale.\n",
    "</p>"
   ]
  },
  {
   "cell_type": "markdown",
   "id": "de97d00f",
   "metadata": {
    "papermill": {
     "duration": 0.010307,
     "end_time": "2023-01-07T13:20:42.002721",
     "exception": false,
     "start_time": "2023-01-07T13:20:41.992414",
     "status": "completed"
    },
    "tags": []
   },
   "source": [
    "<div style=\"color:black;\n",
    "           display:fill;\n",
    "           border-radius:5px;\n",
    "           background-color:orange;\n",
    "           font-size:120%;\n",
    "           font-family:Helvetica, Sans-Serif;\n",
    "           letter-spacing:0.5px\">\n",
    "\n",
    "<p style=\"padding: 10px;\n",
    "          text-align: center;\n",
    "          color:black;\">\n",
    "Transforming with StandardScaler\n",
    "</p>"
   ]
  },
  {
   "cell_type": "code",
   "execution_count": 4,
   "id": "7d501d36",
   "metadata": {
    "execution": {
     "iopub.execute_input": "2023-01-07T13:20:42.025394Z",
     "iopub.status.busy": "2023-01-07T13:20:42.024619Z",
     "iopub.status.idle": "2023-01-07T13:20:42.030167Z",
     "shell.execute_reply": "2023-01-07T13:20:42.028937Z"
    },
    "papermill": {
     "duration": 0.020152,
     "end_time": "2023-01-07T13:20:42.032756",
     "exception": false,
     "start_time": "2023-01-07T13:20:42.012604",
     "status": "completed"
    },
    "tags": []
   },
   "outputs": [],
   "source": [
    "scaler = StandardScaler()"
   ]
  },
  {
   "cell_type": "code",
   "execution_count": 5,
   "id": "3e827493",
   "metadata": {
    "execution": {
     "iopub.execute_input": "2023-01-07T13:20:42.054501Z",
     "iopub.status.busy": "2023-01-07T13:20:42.054112Z",
     "iopub.status.idle": "2023-01-07T13:20:42.066650Z",
     "shell.execute_reply": "2023-01-07T13:20:42.065529Z"
    },
    "papermill": {
     "duration": 0.026373,
     "end_time": "2023-01-07T13:20:42.069032",
     "exception": false,
     "start_time": "2023-01-07T13:20:42.042659",
     "status": "completed"
    },
    "tags": []
   },
   "outputs": [
    {
     "data": {
      "text/plain": [
       "StandardScaler()"
      ]
     },
     "execution_count": 5,
     "metadata": {},
     "output_type": "execute_result"
    }
   ],
   "source": [
    "scaler.fit(data.drop('TARGET CLASS', axis=1)) #Computes the mean and std to be used for scaling "
   ]
  },
  {
   "cell_type": "markdown",
   "id": "1f9edee5",
   "metadata": {
    "papermill": {
     "duration": 0.009637,
     "end_time": "2023-01-07T13:20:42.088756",
     "exception": false,
     "start_time": "2023-01-07T13:20:42.079119",
     "status": "completed"
    },
    "tags": []
   },
   "source": [
    "<div style=\"color:black;\n",
    "           display:fill;\n",
    "           border-radius:5px;\n",
    "           background-color:orange;\n",
    "           font-size:120%;\n",
    "           font-family:Helvetica, Sans-Serif;\n",
    "           letter-spacing:0.5px\">\n",
    "\n",
    "<p style=\"padding: 10px;\n",
    "          text-align: center;\n",
    "          color:black;\">\n",
    "Setting scaled_features\n",
    "</p>"
   ]
  },
  {
   "cell_type": "code",
   "execution_count": 6,
   "id": "21648306",
   "metadata": {
    "execution": {
     "iopub.execute_input": "2023-01-07T13:20:42.110004Z",
     "iopub.status.busy": "2023-01-07T13:20:42.109592Z",
     "iopub.status.idle": "2023-01-07T13:20:42.117810Z",
     "shell.execute_reply": "2023-01-07T13:20:42.116718Z"
    },
    "papermill": {
     "duration": 0.021549,
     "end_time": "2023-01-07T13:20:42.120057",
     "exception": false,
     "start_time": "2023-01-07T13:20:42.098508",
     "status": "completed"
    },
    "tags": []
   },
   "outputs": [],
   "source": [
    "scaled_features = scaler.transform(data.drop('TARGET CLASS', axis=1)) #perform Standardization by centering and scaling"
   ]
  },
  {
   "cell_type": "code",
   "execution_count": 7,
   "id": "20ce0e6e",
   "metadata": {
    "execution": {
     "iopub.execute_input": "2023-01-07T13:20:42.141846Z",
     "iopub.status.busy": "2023-01-07T13:20:42.141114Z",
     "iopub.status.idle": "2023-01-07T13:20:42.148550Z",
     "shell.execute_reply": "2023-01-07T13:20:42.147717Z"
    },
    "papermill": {
     "duration": 0.020542,
     "end_time": "2023-01-07T13:20:42.150491",
     "exception": false,
     "start_time": "2023-01-07T13:20:42.129949",
     "status": "completed"
    },
    "tags": []
   },
   "outputs": [
    {
     "data": {
      "text/plain": [
       "array([[-0.12354188,  0.18590747, -0.91343069, ..., -1.48236813,\n",
       "        -0.9497194 , -0.64331425],\n",
       "       [-1.08483602, -0.43034845, -1.02531333, ..., -0.20224031,\n",
       "        -1.82805088,  0.63675862],\n",
       "       [-0.78870217,  0.33931821,  0.30151137, ...,  0.28570652,\n",
       "        -0.68249379, -0.37784987],\n",
       "       ...,\n",
       "       [ 0.64177715, -0.51308341, -0.17920486, ..., -2.36249443,\n",
       "        -0.81426092,  0.11159651],\n",
       "       [ 0.46707241, -0.98278576, -1.46519359, ..., -0.03677699,\n",
       "         0.40602454, -0.85567   ],\n",
       "       [-0.38765353, -0.59589427, -1.43139809, ..., -0.56778932,\n",
       "         0.3369971 ,  0.01034996]])"
      ]
     },
     "execution_count": 7,
     "metadata": {},
     "output_type": "execute_result"
    }
   ],
   "source": [
    "scaled_features #cheking"
   ]
  },
  {
   "cell_type": "code",
   "execution_count": 8,
   "id": "6923dd3a",
   "metadata": {
    "execution": {
     "iopub.execute_input": "2023-01-07T13:20:42.172737Z",
     "iopub.status.busy": "2023-01-07T13:20:42.171867Z",
     "iopub.status.idle": "2023-01-07T13:20:42.192726Z",
     "shell.execute_reply": "2023-01-07T13:20:42.191584Z"
    },
    "papermill": {
     "duration": 0.034603,
     "end_time": "2023-01-07T13:20:42.195066",
     "exception": false,
     "start_time": "2023-01-07T13:20:42.160463",
     "status": "completed"
    },
    "tags": []
   },
   "outputs": [
    {
     "data": {
      "text/html": [
       "<div>\n",
       "<style scoped>\n",
       "    .dataframe tbody tr th:only-of-type {\n",
       "        vertical-align: middle;\n",
       "    }\n",
       "\n",
       "    .dataframe tbody tr th {\n",
       "        vertical-align: top;\n",
       "    }\n",
       "\n",
       "    .dataframe thead th {\n",
       "        text-align: right;\n",
       "    }\n",
       "</style>\n",
       "<table border=\"1\" class=\"dataframe\">\n",
       "  <thead>\n",
       "    <tr style=\"text-align: right;\">\n",
       "      <th></th>\n",
       "      <th>WTT</th>\n",
       "      <th>PTI</th>\n",
       "      <th>EQW</th>\n",
       "      <th>SBI</th>\n",
       "      <th>LQE</th>\n",
       "      <th>QWG</th>\n",
       "      <th>FDJ</th>\n",
       "      <th>PJF</th>\n",
       "      <th>HQE</th>\n",
       "      <th>NXJ</th>\n",
       "    </tr>\n",
       "  </thead>\n",
       "  <tbody>\n",
       "    <tr>\n",
       "      <th>0</th>\n",
       "      <td>-0.123542</td>\n",
       "      <td>0.185907</td>\n",
       "      <td>-0.913431</td>\n",
       "      <td>0.319629</td>\n",
       "      <td>-1.033637</td>\n",
       "      <td>-2.308375</td>\n",
       "      <td>-0.798951</td>\n",
       "      <td>-1.482368</td>\n",
       "      <td>-0.949719</td>\n",
       "      <td>-0.643314</td>\n",
       "    </tr>\n",
       "    <tr>\n",
       "      <th>1</th>\n",
       "      <td>-1.084836</td>\n",
       "      <td>-0.430348</td>\n",
       "      <td>-1.025313</td>\n",
       "      <td>0.625388</td>\n",
       "      <td>-0.444847</td>\n",
       "      <td>-1.152706</td>\n",
       "      <td>-1.129797</td>\n",
       "      <td>-0.202240</td>\n",
       "      <td>-1.828051</td>\n",
       "      <td>0.636759</td>\n",
       "    </tr>\n",
       "    <tr>\n",
       "      <th>2</th>\n",
       "      <td>-0.788702</td>\n",
       "      <td>0.339318</td>\n",
       "      <td>0.301511</td>\n",
       "      <td>0.755873</td>\n",
       "      <td>2.031693</td>\n",
       "      <td>-0.870156</td>\n",
       "      <td>2.599818</td>\n",
       "      <td>0.285707</td>\n",
       "      <td>-0.682494</td>\n",
       "      <td>-0.377850</td>\n",
       "    </tr>\n",
       "    <tr>\n",
       "      <th>3</th>\n",
       "      <td>0.982841</td>\n",
       "      <td>1.060193</td>\n",
       "      <td>-0.621399</td>\n",
       "      <td>0.625299</td>\n",
       "      <td>0.452820</td>\n",
       "      <td>-0.267220</td>\n",
       "      <td>1.750208</td>\n",
       "      <td>1.066491</td>\n",
       "      <td>1.241325</td>\n",
       "      <td>-1.026987</td>\n",
       "    </tr>\n",
       "    <tr>\n",
       "      <th>4</th>\n",
       "      <td>1.139275</td>\n",
       "      <td>-0.640392</td>\n",
       "      <td>-0.709819</td>\n",
       "      <td>-0.057175</td>\n",
       "      <td>0.822886</td>\n",
       "      <td>-0.936773</td>\n",
       "      <td>0.596782</td>\n",
       "      <td>-1.472352</td>\n",
       "      <td>1.040772</td>\n",
       "      <td>0.276510</td>\n",
       "    </tr>\n",
       "    <tr>\n",
       "      <th>...</th>\n",
       "      <td>...</td>\n",
       "      <td>...</td>\n",
       "      <td>...</td>\n",
       "      <td>...</td>\n",
       "      <td>...</td>\n",
       "      <td>...</td>\n",
       "      <td>...</td>\n",
       "      <td>...</td>\n",
       "      <td>...</td>\n",
       "      <td>...</td>\n",
       "    </tr>\n",
       "    <tr>\n",
       "      <th>995</th>\n",
       "      <td>0.211653</td>\n",
       "      <td>-0.312490</td>\n",
       "      <td>0.065163</td>\n",
       "      <td>-0.259834</td>\n",
       "      <td>0.017567</td>\n",
       "      <td>-1.395721</td>\n",
       "      <td>-0.849486</td>\n",
       "      <td>-2.604264</td>\n",
       "      <td>-0.139347</td>\n",
       "      <td>-0.069602</td>\n",
       "    </tr>\n",
       "    <tr>\n",
       "      <th>996</th>\n",
       "      <td>-1.292453</td>\n",
       "      <td>-0.616901</td>\n",
       "      <td>0.369613</td>\n",
       "      <td>0.482648</td>\n",
       "      <td>1.569891</td>\n",
       "      <td>1.273495</td>\n",
       "      <td>0.362784</td>\n",
       "      <td>-1.242110</td>\n",
       "      <td>-0.679746</td>\n",
       "      <td>1.473448</td>\n",
       "    </tr>\n",
       "    <tr>\n",
       "      <th>997</th>\n",
       "      <td>0.641777</td>\n",
       "      <td>-0.513083</td>\n",
       "      <td>-0.179205</td>\n",
       "      <td>1.022255</td>\n",
       "      <td>-0.539703</td>\n",
       "      <td>-0.229680</td>\n",
       "      <td>-2.261339</td>\n",
       "      <td>-2.362494</td>\n",
       "      <td>-0.814261</td>\n",
       "      <td>0.111597</td>\n",
       "    </tr>\n",
       "    <tr>\n",
       "      <th>998</th>\n",
       "      <td>0.467072</td>\n",
       "      <td>-0.982786</td>\n",
       "      <td>-1.465194</td>\n",
       "      <td>-0.071465</td>\n",
       "      <td>2.368666</td>\n",
       "      <td>0.001269</td>\n",
       "      <td>-0.422041</td>\n",
       "      <td>-0.036777</td>\n",
       "      <td>0.406025</td>\n",
       "      <td>-0.855670</td>\n",
       "    </tr>\n",
       "    <tr>\n",
       "      <th>999</th>\n",
       "      <td>-0.387654</td>\n",
       "      <td>-0.595894</td>\n",
       "      <td>-1.431398</td>\n",
       "      <td>0.512722</td>\n",
       "      <td>-0.402552</td>\n",
       "      <td>-2.026512</td>\n",
       "      <td>-0.726253</td>\n",
       "      <td>-0.567789</td>\n",
       "      <td>0.336997</td>\n",
       "      <td>0.010350</td>\n",
       "    </tr>\n",
       "  </tbody>\n",
       "</table>\n",
       "<p>1000 rows × 10 columns</p>\n",
       "</div>"
      ],
      "text/plain": [
       "          WTT       PTI       EQW       SBI       LQE       QWG       FDJ  \\\n",
       "0   -0.123542  0.185907 -0.913431  0.319629 -1.033637 -2.308375 -0.798951   \n",
       "1   -1.084836 -0.430348 -1.025313  0.625388 -0.444847 -1.152706 -1.129797   \n",
       "2   -0.788702  0.339318  0.301511  0.755873  2.031693 -0.870156  2.599818   \n",
       "3    0.982841  1.060193 -0.621399  0.625299  0.452820 -0.267220  1.750208   \n",
       "4    1.139275 -0.640392 -0.709819 -0.057175  0.822886 -0.936773  0.596782   \n",
       "..        ...       ...       ...       ...       ...       ...       ...   \n",
       "995  0.211653 -0.312490  0.065163 -0.259834  0.017567 -1.395721 -0.849486   \n",
       "996 -1.292453 -0.616901  0.369613  0.482648  1.569891  1.273495  0.362784   \n",
       "997  0.641777 -0.513083 -0.179205  1.022255 -0.539703 -0.229680 -2.261339   \n",
       "998  0.467072 -0.982786 -1.465194 -0.071465  2.368666  0.001269 -0.422041   \n",
       "999 -0.387654 -0.595894 -1.431398  0.512722 -0.402552 -2.026512 -0.726253   \n",
       "\n",
       "          PJF       HQE       NXJ  \n",
       "0   -1.482368 -0.949719 -0.643314  \n",
       "1   -0.202240 -1.828051  0.636759  \n",
       "2    0.285707 -0.682494 -0.377850  \n",
       "3    1.066491  1.241325 -1.026987  \n",
       "4   -1.472352  1.040772  0.276510  \n",
       "..        ...       ...       ...  \n",
       "995 -2.604264 -0.139347 -0.069602  \n",
       "996 -1.242110 -0.679746  1.473448  \n",
       "997 -2.362494 -0.814261  0.111597  \n",
       "998 -0.036777  0.406025 -0.855670  \n",
       "999 -0.567789  0.336997  0.010350  \n",
       "\n",
       "[1000 rows x 10 columns]"
      ]
     },
     "execution_count": 8,
     "metadata": {},
     "output_type": "execute_result"
    }
   ],
   "source": [
    "df = pd.DataFrame(scaled_features, columns=data.columns[:-1])\n",
    "df"
   ]
  },
  {
   "cell_type": "markdown",
   "id": "e175dfe5",
   "metadata": {
    "papermill": {
     "duration": 0.014939,
     "end_time": "2023-01-07T13:20:42.220423",
     "exception": false,
     "start_time": "2023-01-07T13:20:42.205484",
     "status": "completed"
    },
    "tags": []
   },
   "source": [
    "<div style=\"color:black;\n",
    "           display:fill;\n",
    "           border-radius:5px;\n",
    "           background-color:orange;\n",
    "           font-size:120%;\n",
    "           font-family:Helvetica, Sans-Serif;\n",
    "           letter-spacing:0.5px\">\n",
    "\n",
    "<p style=\"padding: 10px;\n",
    "          text-align: center;\n",
    "          color:black;\">\n",
    "Using Train Test Split\n",
    "</p>"
   ]
  },
  {
   "cell_type": "code",
   "execution_count": 9,
   "id": "c37d724f",
   "metadata": {
    "execution": {
     "iopub.execute_input": "2023-01-07T13:20:42.251919Z",
     "iopub.status.busy": "2023-01-07T13:20:42.251461Z",
     "iopub.status.idle": "2023-01-07T13:20:42.260758Z",
     "shell.execute_reply": "2023-01-07T13:20:42.259852Z"
    },
    "papermill": {
     "duration": 0.02749,
     "end_time": "2023-01-07T13:20:42.263130",
     "exception": false,
     "start_time": "2023-01-07T13:20:42.235640",
     "status": "completed"
    },
    "tags": []
   },
   "outputs": [],
   "source": [
    "X_train, X_test, y_train, y_test = train_test_split(scaled_features, data['TARGET CLASS'], test_size=0.33, random_state=123)"
   ]
  },
  {
   "cell_type": "markdown",
   "id": "6d817739",
   "metadata": {
    "papermill": {
     "duration": 0.012608,
     "end_time": "2023-01-07T13:20:42.287745",
     "exception": false,
     "start_time": "2023-01-07T13:20:42.275137",
     "status": "completed"
    },
    "tags": []
   },
   "source": [
    "<div style=\"color:black;\n",
    "           display:fill;\n",
    "           border-radius:5px;\n",
    "           background-color:orange;\n",
    "           font-size:120%;\n",
    "           font-family:Helvetica, Sans-Serif;\n",
    "           letter-spacing:0.5px\">\n",
    "\n",
    "<p style=\"padding: 10px;\n",
    "          text-align: center;\n",
    "          color:black;\">\n",
    "Using KNN\n",
    "\n",
    "Remember that we are trying to come up with a model to predict whether someone will be in the TARGET CLASS or not. We'll start with k=1.\n",
    "\n",
    "</p>"
   ]
  },
  {
   "cell_type": "markdown",
   "id": "55e2cf88",
   "metadata": {
    "papermill": {
     "duration": 0.010653,
     "end_time": "2023-01-07T13:20:42.310715",
     "exception": false,
     "start_time": "2023-01-07T13:20:42.300062",
     "status": "completed"
    },
    "tags": []
   },
   "source": [
    "<div style=\"color:black;\n",
    "           display:fill;\n",
    "           border-radius:5px;\n",
    "           background-color:orange;\n",
    "           font-size:120%;\n",
    "           font-family:Helvetica, Sans-Serif;\n",
    "           letter-spacing:0.5px\">\n",
    "\n",
    "<p style=\"padding: 10px;\n",
    "          text-align: center;\n",
    "          color:black;\">\n",
    "Building the model and fitting on traing sets\n",
    "</p>"
   ]
  },
  {
   "cell_type": "code",
   "execution_count": 10,
   "id": "22e36ff8",
   "metadata": {
    "execution": {
     "iopub.execute_input": "2023-01-07T13:20:42.333990Z",
     "iopub.status.busy": "2023-01-07T13:20:42.333494Z",
     "iopub.status.idle": "2023-01-07T13:20:42.339137Z",
     "shell.execute_reply": "2023-01-07T13:20:42.338068Z"
    },
    "papermill": {
     "duration": 0.020083,
     "end_time": "2023-01-07T13:20:42.341446",
     "exception": false,
     "start_time": "2023-01-07T13:20:42.321363",
     "status": "completed"
    },
    "tags": []
   },
   "outputs": [],
   "source": [
    "knn = KNeighborsClassifier(n_neighbors=1) # n_neighbors as 1"
   ]
  },
  {
   "cell_type": "code",
   "execution_count": 11,
   "id": "842c2895",
   "metadata": {
    "execution": {
     "iopub.execute_input": "2023-01-07T13:20:42.366662Z",
     "iopub.status.busy": "2023-01-07T13:20:42.365815Z",
     "iopub.status.idle": "2023-01-07T13:20:42.375558Z",
     "shell.execute_reply": "2023-01-07T13:20:42.374572Z"
    },
    "papermill": {
     "duration": 0.025028,
     "end_time": "2023-01-07T13:20:42.377719",
     "exception": false,
     "start_time": "2023-01-07T13:20:42.352691",
     "status": "completed"
    },
    "tags": []
   },
   "outputs": [
    {
     "data": {
      "text/plain": [
       "KNeighborsClassifier(n_neighbors=1)"
      ]
     },
     "execution_count": 11,
     "metadata": {},
     "output_type": "execute_result"
    }
   ],
   "source": [
    "knn.fit(X_train, y_train) # fitting the data"
   ]
  },
  {
   "cell_type": "markdown",
   "id": "73d7ea92",
   "metadata": {
    "papermill": {
     "duration": 0.014854,
     "end_time": "2023-01-07T13:20:42.406528",
     "exception": false,
     "start_time": "2023-01-07T13:20:42.391674",
     "status": "completed"
    },
    "tags": []
   },
   "source": [
    "<div style=\"color:black;\n",
    "           display:fill;\n",
    "           border-radius:5px;\n",
    "           background-color:orange;\n",
    "           font-size:120%;\n",
    "           font-family:Helvetica, Sans-Serif;\n",
    "           letter-spacing:0.5px\">\n",
    "\n",
    "<p style=\"padding: 10px;\n",
    "          text-align: center;\n",
    "          color:black;\">\n",
    "Predicting the model on test sets \n",
    "</p>"
   ]
  },
  {
   "cell_type": "code",
   "execution_count": 12,
   "id": "673efef4",
   "metadata": {
    "execution": {
     "iopub.execute_input": "2023-01-07T13:20:42.438815Z",
     "iopub.status.busy": "2023-01-07T13:20:42.438119Z",
     "iopub.status.idle": "2023-01-07T13:20:42.459735Z",
     "shell.execute_reply": "2023-01-07T13:20:42.458517Z"
    },
    "papermill": {
     "duration": 0.041038,
     "end_time": "2023-01-07T13:20:42.462651",
     "exception": false,
     "start_time": "2023-01-07T13:20:42.421613",
     "status": "completed"
    },
    "tags": []
   },
   "outputs": [
    {
     "data": {
      "text/plain": [
       "array([0, 0, 0, 1, 0, 0, 1, 1, 1, 1, 1, 1, 1, 1, 1, 0, 1, 0, 1, 0, 0, 1,\n",
       "       0, 1, 1, 1, 1, 0, 0, 0, 1, 0, 0, 0, 1, 1, 1, 0, 1, 0, 1, 0, 1, 1,\n",
       "       1, 1, 1, 0, 1, 0, 0, 1, 1, 0, 1, 0, 0, 1, 0, 0, 1, 1, 0, 0, 1, 0,\n",
       "       0, 0, 0, 1, 0, 0, 0, 0, 0, 1, 0, 1, 1, 1, 0, 0, 1, 1, 1, 1, 0, 1,\n",
       "       1, 0, 1, 0, 1, 0, 1, 0, 0, 1, 0, 1, 1, 1, 0, 0, 0, 1, 1, 1, 1, 0,\n",
       "       0, 1, 1, 1, 0, 0, 1, 0, 1, 1, 1, 1, 0, 1, 0, 0, 1, 1, 1, 1, 0, 1,\n",
       "       0, 0, 1, 1, 0, 1, 0, 0, 0, 0, 0, 0, 0, 0, 0, 0, 0, 0, 1, 1, 1, 1,\n",
       "       1, 1, 1, 1, 1, 1, 0, 1, 1, 0, 1, 1, 0, 0, 0, 0, 0, 0, 0, 0, 0, 0,\n",
       "       0, 0, 1, 0, 1, 0, 1, 0, 1, 1, 1, 0, 1, 1, 0, 1, 1, 1, 1, 1, 1, 1,\n",
       "       0, 0, 0, 0, 1, 0, 0, 1, 1, 1, 1, 0, 0, 1, 0, 0, 1, 0, 1, 1, 0, 1,\n",
       "       1, 1, 1, 0, 1, 1, 1, 1, 0, 0, 1, 0, 0, 1, 1, 1, 1, 0, 0, 1, 1, 0,\n",
       "       1, 0, 0, 1, 0, 1, 0, 1, 0, 1, 0, 0, 0, 1, 1, 0, 0, 1, 1, 1, 1, 0,\n",
       "       0, 0, 0, 1, 0, 1, 0, 0, 1, 0, 1, 1, 0, 1, 1, 0, 0, 1, 1, 1, 0, 0,\n",
       "       0, 1, 0, 1, 1, 0, 0, 0, 0, 1, 1, 1, 1, 1, 1, 0, 0, 1, 0, 1, 1, 1,\n",
       "       1, 0, 0, 0, 1, 0, 1, 0, 0, 1, 1, 1, 1, 0, 1, 1, 1, 0, 1, 0, 0, 1])"
      ]
     },
     "execution_count": 12,
     "metadata": {},
     "output_type": "execute_result"
    }
   ],
   "source": [
    "y_pred= knn.predict(X_test)\n",
    "y_pred"
   ]
  },
  {
   "cell_type": "markdown",
   "id": "eecd3dfe",
   "metadata": {
    "papermill": {
     "duration": 0.015391,
     "end_time": "2023-01-07T13:20:42.493658",
     "exception": false,
     "start_time": "2023-01-07T13:20:42.478267",
     "status": "completed"
    },
    "tags": []
   },
   "source": [
    "<div style=\"color:black;\n",
    "           display:fill;\n",
    "           border-radius:5px;\n",
    "           background-color:orange;\n",
    "           font-size:120%;\n",
    "           font-family:Helvetica, Sans-Serif;\n",
    "           letter-spacing:0.5px\">\n",
    "\n",
    "<p style=\"padding: 10px;\n",
    "          text-align: center;\n",
    "          color:black;\">\n",
    "Predictions and Evaluations and Let's evaluate our KNN Model\n",
    "\n",
    "\n",
    "</p>"
   ]
  },
  {
   "cell_type": "code",
   "execution_count": 13,
   "id": "aaa2d880",
   "metadata": {
    "execution": {
     "iopub.execute_input": "2023-01-07T13:20:42.526435Z",
     "iopub.status.busy": "2023-01-07T13:20:42.526019Z",
     "iopub.status.idle": "2023-01-07T13:20:42.535943Z",
     "shell.execute_reply": "2023-01-07T13:20:42.534438Z"
    },
    "papermill": {
     "duration": 0.029238,
     "end_time": "2023-01-07T13:20:42.538387",
     "exception": false,
     "start_time": "2023-01-07T13:20:42.509149",
     "status": "completed"
    },
    "tags": []
   },
   "outputs": [
    {
     "name": "stdout",
     "output_type": "stream",
     "text": [
      "[[142  12]\n",
      " [ 14 162]]\n"
     ]
    }
   ],
   "source": [
    "print(confusion_matrix(y_test,y_pred))"
   ]
  },
  {
   "cell_type": "code",
   "execution_count": 14,
   "id": "1abb0b50",
   "metadata": {
    "execution": {
     "iopub.execute_input": "2023-01-07T13:20:42.573806Z",
     "iopub.status.busy": "2023-01-07T13:20:42.572993Z",
     "iopub.status.idle": "2023-01-07T13:20:42.584271Z",
     "shell.execute_reply": "2023-01-07T13:20:42.582496Z"
    },
    "papermill": {
     "duration": 0.037738,
     "end_time": "2023-01-07T13:20:42.587933",
     "exception": false,
     "start_time": "2023-01-07T13:20:42.550195",
     "status": "completed"
    },
    "tags": []
   },
   "outputs": [
    {
     "name": "stdout",
     "output_type": "stream",
     "text": [
      "              precision    recall  f1-score   support\n",
      "\n",
      "           0       0.91      0.92      0.92       154\n",
      "           1       0.93      0.92      0.93       176\n",
      "\n",
      "    accuracy                           0.92       330\n",
      "   macro avg       0.92      0.92      0.92       330\n",
      "weighted avg       0.92      0.92      0.92       330\n",
      "\n"
     ]
    }
   ],
   "source": [
    "print(classification_report(y_test,y_pred))"
   ]
  },
  {
   "cell_type": "markdown",
   "id": "2155cfe7",
   "metadata": {
    "papermill": {
     "duration": 0.011258,
     "end_time": "2023-01-07T13:20:42.612602",
     "exception": false,
     "start_time": "2023-01-07T13:20:42.601344",
     "status": "completed"
    },
    "tags": []
   },
   "source": [
    "<div style=\"color:black;\n",
    "           display:fill;\n",
    "           border-radius:5px;\n",
    "           background-color:orange;\n",
    "           font-size:120%;\n",
    "           font-family:Helvetica, Sans-Serif;\n",
    "           letter-spacing:0.5px\">\n",
    "\n",
    "<p style=\"padding: 10px;\n",
    "          text-align: center;\n",
    "          color:black;\">\n",
    "Choosing a k Value; \n",
    "Now Let's go ahead and use the elbow method to pick a good K Value:\n",
    "</p>"
   ]
  },
  {
   "cell_type": "code",
   "execution_count": 15,
   "id": "269d0b52",
   "metadata": {
    "execution": {
     "iopub.execute_input": "2023-01-07T13:20:42.638436Z",
     "iopub.status.busy": "2023-01-07T13:20:42.638043Z",
     "iopub.status.idle": "2023-01-07T13:20:43.298355Z",
     "shell.execute_reply": "2023-01-07T13:20:43.296874Z"
    },
    "papermill": {
     "duration": 0.676046,
     "end_time": "2023-01-07T13:20:43.301073",
     "exception": false,
     "start_time": "2023-01-07T13:20:42.625027",
     "status": "completed"
    },
    "tags": []
   },
   "outputs": [],
   "source": [
    "error_rate=[]\n",
    "for i in range(1,40):\n",
    "    knn = KNeighborsClassifier(n_neighbors=i)\n",
    "    knn.fit(X_train,y_train)\n",
    "    y_pred= knn.predict(X_test)\n",
    "    error_rate.append(np.mean(y_pred != y_test))"
   ]
  },
  {
   "cell_type": "code",
   "execution_count": 16,
   "id": "11ae123b",
   "metadata": {
    "execution": {
     "iopub.execute_input": "2023-01-07T13:20:43.325454Z",
     "iopub.status.busy": "2023-01-07T13:20:43.325021Z",
     "iopub.status.idle": "2023-01-07T13:20:43.332377Z",
     "shell.execute_reply": "2023-01-07T13:20:43.331341Z"
    },
    "papermill": {
     "duration": 0.022708,
     "end_time": "2023-01-07T13:20:43.334881",
     "exception": false,
     "start_time": "2023-01-07T13:20:43.312173",
     "status": "completed"
    },
    "tags": []
   },
   "outputs": [
    {
     "data": {
      "text/plain": [
       "[0.07878787878787878,\n",
       " 0.08484848484848485,\n",
       " 0.06666666666666667,\n",
       " 0.06363636363636363,\n",
       " 0.0696969696969697,\n",
       " 0.06060606060606061,\n",
       " 0.05454545454545454,\n",
       " 0.06060606060606061,\n",
       " 0.05757575757575758,\n",
       " 0.051515151515151514,\n",
       " 0.05757575757575758,\n",
       " 0.048484848484848485,\n",
       " 0.045454545454545456,\n",
       " 0.045454545454545456,\n",
       " 0.048484848484848485,\n",
       " 0.05454545454545454,\n",
       " 0.05454545454545454,\n",
       " 0.05757575757575758,\n",
       " 0.05454545454545454,\n",
       " 0.048484848484848485,\n",
       " 0.04242424242424243,\n",
       " 0.04242424242424243,\n",
       " 0.04242424242424243,\n",
       " 0.045454545454545456,\n",
       " 0.04242424242424243,\n",
       " 0.045454545454545456,\n",
       " 0.04242424242424243,\n",
       " 0.04242424242424243,\n",
       " 0.051515151515151514,\n",
       " 0.04242424242424243,\n",
       " 0.05454545454545454,\n",
       " 0.051515151515151514,\n",
       " 0.06060606060606061,\n",
       " 0.048484848484848485,\n",
       " 0.05757575757575758,\n",
       " 0.051515151515151514,\n",
       " 0.05757575757575758,\n",
       " 0.048484848484848485,\n",
       " 0.06060606060606061]"
      ]
     },
     "execution_count": 16,
     "metadata": {},
     "output_type": "execute_result"
    }
   ],
   "source": [
    "error_rate"
   ]
  },
  {
   "cell_type": "markdown",
   "id": "ce8623b4",
   "metadata": {
    "papermill": {
     "duration": 0.011335,
     "end_time": "2023-01-07T13:20:43.357270",
     "exception": false,
     "start_time": "2023-01-07T13:20:43.345935",
     "status": "completed"
    },
    "tags": []
   },
   "source": [
    "<div style=\"color:black;\n",
    "           display:fill;\n",
    "           border-radius:5px;\n",
    "           background-color:orange;\n",
    "           font-size:120%;\n",
    "           font-family:Helvetica, Sans-Serif;\n",
    "           letter-spacing:0.5px\">\n",
    "\n",
    "<p style=\"padding: 10px;\n",
    "          text-align: center;\n",
    "          color:black;\">\n",
    "Plotting 'Error Rate vs. K Value'\n",
    "</p>"
   ]
  },
  {
   "cell_type": "code",
   "execution_count": 17,
   "id": "a1f860d3",
   "metadata": {
    "execution": {
     "iopub.execute_input": "2023-01-07T13:20:43.381399Z",
     "iopub.status.busy": "2023-01-07T13:20:43.381013Z",
     "iopub.status.idle": "2023-01-07T13:20:43.595213Z",
     "shell.execute_reply": "2023-01-07T13:20:43.594237Z"
    },
    "papermill": {
     "duration": 0.228662,
     "end_time": "2023-01-07T13:20:43.597389",
     "exception": false,
     "start_time": "2023-01-07T13:20:43.368727",
     "status": "completed"
    },
    "tags": []
   },
   "outputs": [
    {
     "data": {
      "text/plain": [
       "Text(0, 0.5, 'Error Rate')"
      ]
     },
     "execution_count": 17,
     "metadata": {},
     "output_type": "execute_result"
    },
    {
     "data": {
      "image/png": "[encoded data removed]",
      "text/plain": [
       "<Figure size 720x432 with 1 Axes>"
      ]
     },
     "metadata": {
      "needs_background": "light"
     },
     "output_type": "display_data"
    }
   ],
   "source": [
    "plt.figure(figsize=(10,6))\n",
    "plt.plot(range(1,40),error_rate,color='blue', linestyle='dashed', marker='o',\n",
    "         markerfacecolor='red', markersize=10)\n",
    "plt.title('Error Rate vs. K Value')\n",
    "plt.xlabel('K')\n",
    "plt.ylabel('Error Rate')"
   ]
  },
  {
   "cell_type": "markdown",
   "id": "fa460de3",
   "metadata": {
    "papermill": {
     "duration": 0.011497,
     "end_time": "2023-01-07T13:20:43.620888",
     "exception": false,
     "start_time": "2023-01-07T13:20:43.609391",
     "status": "completed"
    },
    "tags": []
   },
   "source": [
    "<div style=\"color:black;\n",
    "           display:fill;\n",
    "           border-radius:5px;\n",
    "           background-color:#e71837;\n",
    "           font-size:120%;\n",
    "           font-family:Helvetica, Sans-Serif;\n",
    "           letter-spacing:0.5px\">\n",
    "\n",
    "<p style=\"padding: 10px;\n",
    "          text-align: center;\n",
    "          color:black;\">\n",
    "Here we can see that that after around K>20 the error rate just tends to hover around 0.4 Let's retrain the model with that and check the classification report!\n",
    "</p>\n",
    "\n"
   ]
  },
  {
   "cell_type": "markdown",
   "id": "17419e28",
   "metadata": {
    "papermill": {
     "duration": 0.011468,
     "end_time": "2023-01-07T13:20:43.644115",
     "exception": false,
     "start_time": "2023-01-07T13:20:43.632647",
     "status": "completed"
    },
    "tags": []
   },
   "source": [
    "<div style=\"color:black;\n",
    "           display:fill;\n",
    "           border-radius:5px;\n",
    "           background-color:orange;\n",
    "           font-size:120%;\n",
    "           font-family:Helvetica, Sans-Serif;\n",
    "           letter-spacing:0.5px\">\n",
    "\n",
    "<p style=\"padding: 10px;\n",
    "          text-align: center;\n",
    "          color:black;\">\n",
    "FIRST A QUICK COMPARISON TO OUR ORIGINAL k=1\n",
    "</p>"
   ]
  },
  {
   "cell_type": "code",
   "execution_count": 18,
   "id": "3ff6f78f",
   "metadata": {
    "execution": {
     "iopub.execute_input": "2023-01-07T13:20:43.669769Z",
     "iopub.status.busy": "2023-01-07T13:20:43.669329Z",
     "iopub.status.idle": "2023-01-07T13:20:43.697065Z",
     "shell.execute_reply": "2023-01-07T13:20:43.695369Z"
    },
    "papermill": {
     "duration": 0.043774,
     "end_time": "2023-01-07T13:20:43.699690",
     "exception": false,
     "start_time": "2023-01-07T13:20:43.655916",
     "status": "completed"
    },
    "tags": []
   },
   "outputs": [
    {
     "name": "stdout",
     "output_type": "stream",
     "text": [
      "WITH K=1\n",
      "\n",
      "\n",
      "[[142  12]\n",
      " [ 14 162]]\n",
      "\n",
      "\n",
      "              precision    recall  f1-score   support\n",
      "\n",
      "           0       0.91      0.92      0.92       154\n",
      "           1       0.93      0.92      0.93       176\n",
      "\n",
      "    accuracy                           0.92       330\n",
      "   macro avg       0.92      0.92      0.92       330\n",
      "weighted avg       0.92      0.92      0.92       330\n",
      "\n"
     ]
    }
   ],
   "source": [
    "# FIRST A QUICK COMPARISON TO OUR ORIGINAL K=1\n",
    "knn = KNeighborsClassifier(n_neighbors=1)\n",
    "\n",
    "knn.fit(X_train,y_train)\n",
    "y_pred = knn.predict(X_test)\n",
    "\n",
    "print('WITH K=1')\n",
    "print('\\n')\n",
    "print(confusion_matrix(y_test,y_pred))\n",
    "print('\\n')\n",
    "print(classification_report(y_test,y_pred))"
   ]
  },
  {
   "cell_type": "markdown",
   "id": "8251a7eb",
   "metadata": {
    "papermill": {
     "duration": 0.011705,
     "end_time": "2023-01-07T13:20:43.723725",
     "exception": false,
     "start_time": "2023-01-07T13:20:43.712020",
     "status": "completed"
    },
    "tags": []
   },
   "source": [
    "<div style=\"color:black;\n",
    "           display:fill;\n",
    "           border-radius:5px;\n",
    "           background-color:orange;\n",
    "           font-size:120%;\n",
    "           font-family:Helvetica, Sans-Serif;\n",
    "           letter-spacing:0.5px\">\n",
    "\n",
    "<p style=\"padding: 10px;\n",
    "          text-align: center;\n",
    "          color:black;\">\n",
    "Now a quick COMPARISON to our new k=20\n",
    "</p>"
   ]
  },
  {
   "cell_type": "code",
   "execution_count": 19,
   "id": "50d56ce0",
   "metadata": {
    "execution": {
     "iopub.execute_input": "2023-01-07T13:20:43.749770Z",
     "iopub.status.busy": "2023-01-07T13:20:43.749043Z",
     "iopub.status.idle": "2023-01-07T13:20:43.779005Z",
     "shell.execute_reply": "2023-01-07T13:20:43.777272Z"
    },
    "papermill": {
     "duration": 0.047127,
     "end_time": "2023-01-07T13:20:43.782720",
     "exception": false,
     "start_time": "2023-01-07T13:20:43.735593",
     "status": "completed"
    },
    "tags": []
   },
   "outputs": [
    {
     "name": "stdout",
     "output_type": "stream",
     "text": [
      "WITH K=20\n",
      "\n",
      "\n",
      "[[145   9]\n",
      " [  7 169]]\n",
      "\n",
      "\n",
      "              precision    recall  f1-score   support\n",
      "\n",
      "           0       0.95      0.94      0.95       154\n",
      "           1       0.95      0.96      0.95       176\n",
      "\n",
      "    accuracy                           0.95       330\n",
      "   macro avg       0.95      0.95      0.95       330\n",
      "weighted avg       0.95      0.95      0.95       330\n",
      "\n"
     ]
    }
   ],
   "source": [
    "knn = KNeighborsClassifier(n_neighbors=20)\n",
    "\n",
    "knn.fit(X_train,y_train)\n",
    "y_pred = knn.predict(X_test)\n",
    "\n",
    "print('WITH K=20')\n",
    "print('\\n')\n",
    "print(confusion_matrix(y_test,y_pred))\n",
    "print('\\n')\n",
    "print(classification_report(y_test,y_pred))"
   ]
  },
  {
   "cell_type": "markdown",
   "id": "7dc4a85c",
   "metadata": {
    "papermill": {
     "duration": 0.012175,
     "end_time": "2023-01-07T13:20:43.807891",
     "exception": false,
     "start_time": "2023-01-07T13:20:43.795716",
     "status": "completed"
    },
    "tags": []
   },
   "source": [
    "<div style=\"color:black;\n",
    "           display:fill;\n",
    "           border-radius:5px;\n",
    "           background-color:orange;\n",
    "           font-size:120%;\n",
    "           font-family:Helvetica, Sans-Serif;\n",
    "           letter-spacing:0.5px\">\n",
    "\n",
    "<p style=\"padding: 10px;\n",
    "          text-align: center;\n",
    "          color:black;\">\n",
    "Plotting Accuracy vs K-value (i.e. no. of neighours)\n",
    "</p>"
   ]
  },
  {
   "cell_type": "code",
   "execution_count": 20,
   "id": "7c2c3c2e",
   "metadata": {
    "execution": {
     "iopub.execute_input": "2023-01-07T13:20:43.834240Z",
     "iopub.status.busy": "2023-01-07T13:20:43.833844Z",
     "iopub.status.idle": "2023-01-07T13:20:44.469685Z",
     "shell.execute_reply": "2023-01-07T13:20:44.468503Z"
    },
    "papermill": {
     "duration": 0.65206,
     "end_time": "2023-01-07T13:20:44.472418",
     "exception": false,
     "start_time": "2023-01-07T13:20:43.820358",
     "status": "completed"
    },
    "tags": []
   },
   "outputs": [],
   "source": [
    "from sklearn import metrics\n",
    "accuracy=[]\n",
    "\n",
    "for i in range(1,40):\n",
    "    neigh =KNeighborsClassifier(n_neighbors = i).fit(X_train,y_train)\n",
    "    yhat = neigh.predict(X_test)\n",
    "    accuracy.append(metrics.accuracy_score(y_test, yhat))\n"
   ]
  },
  {
   "cell_type": "markdown",
   "id": "b5a859c9",
   "metadata": {
    "papermill": {
     "duration": 0.011638,
     "end_time": "2023-01-07T13:20:44.496192",
     "exception": false,
     "start_time": "2023-01-07T13:20:44.484554",
     "status": "completed"
    },
    "tags": []
   },
   "source": [
    "<div style=\"color:black;\n",
    "           display:fill;\n",
    "           border-radius:5px;\n",
    "           background-color:orange;\n",
    "           font-size:120%;\n",
    "           font-family:Helvetica, Sans-Serif;\n",
    "           letter-spacing:0.5px\">\n",
    "\n",
    "<p style=\"padding: 10px;\n",
    "          text-align: center;\n",
    "          color:black;\">\n",
    "Plotting 'accuracy vs. K Value'\n",
    "</p>"
   ]
  },
  {
   "cell_type": "code",
   "execution_count": 21,
   "id": "099c58c0",
   "metadata": {
    "execution": {
     "iopub.execute_input": "2023-01-07T13:20:44.522012Z",
     "iopub.status.busy": "2023-01-07T13:20:44.521357Z",
     "iopub.status.idle": "2023-01-07T13:20:44.695602Z",
     "shell.execute_reply": "2023-01-07T13:20:44.694079Z"
    },
    "papermill": {
     "duration": 0.190167,
     "end_time": "2023-01-07T13:20:44.698204",
     "exception": false,
     "start_time": "2023-01-07T13:20:44.508037",
     "status": "completed"
    },
    "tags": []
   },
   "outputs": [
    {
     "name": "stdout",
     "output_type": "stream",
     "text": [
      "Maximum accuracy:- 0.9575757575757575 at K = 20\n"
     ]
    },
    {
     "data": {
      "image/png": "[encoded data removed]",
      "text/plain": [
       "<Figure size 720x432 with 1 Axes>"
      ]
     },
     "metadata": {
      "needs_background": "light"
     },
     "output_type": "display_data"
    }
   ],
   "source": [
    "plt.figure(figsize=(10,6))\n",
    "plt.plot(range(1,40),accuracy,color = 'blue',linestyle='dashed', \n",
    "         marker='o',markerfacecolor='red', markersize=10)\n",
    "plt.title('accuracy vs. K Value')\n",
    "plt.xlabel('K')\n",
    "plt.ylabel('Accuracy')\n",
    "print(\"Maximum accuracy:-\",max(accuracy),\"at K =\",accuracy.index(max(accuracy)))\n"
   ]
  },
  {
   "cell_type": "markdown",
   "id": "0809d31e",
   "metadata": {
    "papermill": {
     "duration": 0.012272,
     "end_time": "2023-01-07T13:20:44.723346",
     "exception": false,
     "start_time": "2023-01-07T13:20:44.711074",
     "status": "completed"
    },
    "tags": []
   },
   "source": [
    "<div style=\"color:black;\n",
    "           display:fill;\n",
    "           border-radius:5px;\n",
    "           background-color:#a5d610;\n",
    "           font-size:120%;\n",
    "           font-family:Helvetica, Sans-Serif;\n",
    "           letter-spacing:0.5px\">\n",
    "\n",
    "<p style=\"padding: 10px;\n",
    "          text-align: center;\n",
    "          color:black;\">\n",
    "We are doing something right here, 😀, as when k was one recall for 0 & 1 class was around 0.92 , but now with k=20 it's 0.96, 😀!!\n",
    "</p>"
   ]
  },
  {
   "cell_type": "markdown",
   "id": "655d925a",
   "metadata": {
    "papermill": {
     "duration": 0.012381,
     "end_time": "2023-01-07T13:20:44.748236",
     "exception": false,
     "start_time": "2023-01-07T13:20:44.735855",
     "status": "completed"
    },
    "tags": []
   },
   "source": [
    "<p style=\"font-family:cursive; font-size:25px; color:'darkcyan';\">I brewed this notebook from scratch, If this notebook helped, please consider upvoting and cite me if sharing on other platforms.</p>\n",
    "\n",
    "\n",
    "<p style=\"width: 700px;padding: 20px;background: papayawhip;border-radius:10px;font-size:23px;font-size:23px;border-radius:20px\">\n",
    "    <a href=\"https://www.linkedin.com/in/tusharaggarwalinseec/\" target=\"_blank\">Lets connect on LinkedIn!</a>\n",
    "    \n",
    "   </p>\n",
    "<p style=\"width: 700px;padding: 20px;background: papayawhip;border-radius:10px;font-size:23px;border-radius:20px\">\n",
    "<a href=\"https://github.com/tushar2704\" target=\"_blank\">Follow me on Github too!</a> </p>\n",
    "\n",
    "<p style=\"width: 700px;padding: 20px;background: papayawhip;border-radius:10px;font-size:23px;border-radius:20px\">\n",
    "    <a href=\"https://medium.com/@tushar_aggarwal\" target=\"_blank\">Also checkout my Medium posts!</a>\n",
    "    \n",
    "   </p>"
   ]
  },
  {
   "cell_type": "code",
   "execution_count": null,
   "id": "5023198c",
   "metadata": {
    "papermill": {
     "duration": 0.012298,
     "end_time": "2023-01-07T13:20:44.773123",
     "exception": false,
     "start_time": "2023-01-07T13:20:44.760825",
     "status": "completed"
    },
    "tags": []
   },
   "outputs": [],
   "source": []
  }
 ],
 "metadata": {
  "kernelspec": {
   "display_name": "Python 3",
   "language": "python",
   "name": "python3"
  },
  "language_info": {
   "codemirror_mode": {
    "name": "ipython",
    "version": 3
   },
   "file_extension": ".py",
   "mimetype": "text/x-python",
   "name": "python",
   "nbconvert_exporter": "python",
   "pygments_lexer": "ipython3",
   "version": "3.7.12"
  },
  "papermill": {
   "default_parameters": {},
   "duration": 18.231226,
   "end_time": "2023-01-07T13:20:48.370406",
   "environment_variables": {},
   "exception": null,
   "input_path": "__notebook__.ipynb",
   "output_path": "__notebook__.ipynb",
   "parameters": {},
   "start_time": "2023-01-07T13:20:30.139180",
   "version": "2.3.4"
  }
 },
 "nbformat": 4,
 "nbformat_minor": 5
}
